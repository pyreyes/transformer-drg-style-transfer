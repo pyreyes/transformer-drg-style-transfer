{
  "nbformat": 4,
  "nbformat_minor": 0,
  "metadata": {
    "kernelspec": {
      "display_name": "Python 3",
      "language": "python",
      "name": "python3"
    },
    "language_info": {
      "codemirror_mode": {
        "name": "ipython",
        "version": 3
      },
      "file_extension": ".py",
      "mimetype": "text/x-python",
      "name": "python",
      "nbconvert_exporter": "python",
      "pygments_lexer": "ipython3",
      "version": "3.7.1"
    },
    "colab": {
      "name": "BERT_Classification_Training_data_preparation-checkpoint.ipynb",
      "provenance": []
    }
  },
  "cells": [
    {
      "cell_type": "code",
      "metadata": {
        "id": "H21osm0f2H9N",
        "outputId": "e4024bfa-124b-4152-eae6-cd6e0f7339b9",
        "colab": {
          "base_uri": "https://localhost:8080/"
        }
      },
      "source": [
        "import os, csv\n",
        "from tqdm import tqdm, trange\n",
        "\n",
        "from google.colab import drive\n",
        "drive.mount('/content/drive')\n",
        "  \n",
        "os.chdir('drive/MyDrive/CS6120/Project')"
      ],
      "execution_count": 1,
      "outputs": [
        {
          "output_type": "stream",
          "text": [
            "Mounted at /content/drive\n"
          ],
          "name": "stdout"
        }
      ]
    },
    {
      "cell_type": "code",
      "metadata": {
        "id": "3tmtvkrO2H9Q"
      },
      "source": [
        "# file paths\n",
        "data_dir = 'amazon/'\n",
        "dataset = 'amazon'\n",
        "\n",
        "train_0 = data_dir +\"sentiment.train.0\".format()\n",
        "train_1 = data_dir +\"sentiment.train.1\".format()\n",
        "test_0 = data_dir +\"sentiment.test.0\".format()\n",
        "test_1 = data_dir +\"sentiment.test.1\".format()\n",
        "dev_0 = data_dir +\"sentiment.dev.0\".format()\n",
        "dev_1 = data_dir +\"sentiment.dev.1\".format()"
      ],
      "execution_count": 27,
      "outputs": []
    },
    {
      "cell_type": "code",
      "metadata": {
        "id": "vAi7zfky23MF",
        "outputId": "3a0f8bf0-197b-4584-f74e-59328e57b8f4",
        "colab": {
          "base_uri": "https://localhost:8080/",
          "height": 37
        }
      },
      "source": [
        "train_0"
      ],
      "execution_count": 14,
      "outputs": [
        {
          "output_type": "execute_result",
          "data": {
            "application/vnd.google.colaboratory.intrinsic+json": {
              "type": "string"
            },
            "text/plain": [
              "'amazon/sentiment.train.0'"
            ]
          },
          "metadata": {
            "tags": []
          },
          "execution_count": 14
        }
      ]
    },
    {
      "cell_type": "code",
      "metadata": {
        "id": "GSmq14bY2H9R"
      },
      "source": [
        "train_out = data_dir+'bert_classifier_training/train.csv'.format(dataset)\n",
        "dev_out = data_dir+'bert_classifier_training/dev.csv'.format(dataset)\n",
        "test_out = data_dir+'bert_classifier_training/test.csv'.format(dataset)"
      ],
      "execution_count": 25,
      "outputs": []
    },
    {
      "cell_type": "code",
      "metadata": {
        "id": "v6VLVb4a2H9R"
      },
      "source": [
        "def create_classification_file(input_file_path_list, input_file_label_list, output_file_path):\n",
        "    \"\"\"\n",
        "    Create a csv file combining training data for BERT classification training.\n",
        "    input_file_path_list : Path of the input files\n",
        "    input_file_label_list : Correspoding labels for input_files\n",
        "    output_file_path : csv file path\n",
        "    \"\"\"\n",
        "    with open(output_file_path, \"w\") as out_fp:\n",
        "        writer = csv.writer(out_fp, delimiter=\"\\t\")\n",
        "        for i, file in enumerate(tqdm(input_file_path_list)):\n",
        "            with open(file) as fp:\n",
        "                for line in fp:\n",
        "                    writer.writerow([line.strip(),input_file_label_list[i]])"
      ],
      "execution_count": 21,
      "outputs": []
    },
    {
      "cell_type": "code",
      "metadata": {
        "id": "NO-peFKf2H9R",
        "outputId": "d437e58e-34c2-4495-c8c3-99ac6425cb41",
        "colab": {
          "base_uri": "https://localhost:8080/"
        }
      },
      "source": [
        "create_classification_file([train_0,train_1],[0,1], train_out)\n",
        "create_classification_file([test_0,test_1],[0,1], test_out)\n",
        "create_classification_file([dev_0,dev_1],[0,1], dev_out)"
      ],
      "execution_count": 28,
      "outputs": [
        {
          "output_type": "stream",
          "text": [
            "100%|██████████| 2/2 [00:01<00:00,  1.48it/s]\n",
            "100%|██████████| 2/2 [00:06<00:00,  3.22s/it]\n"
          ],
          "name": "stderr"
        }
      ]
    }
  ]
}